{
  "nbformat": 4,
  "nbformat_minor": 0,
  "metadata": {
    "colab": {
      "provenance": [],
      "collapsed_sections": [
        "lECgLzL9SQRa",
        "DswvGI69R_ah",
        "aRZwDBH3Od7w",
        "Cj22EzT-PIdP",
        "2bdqu6H7Sk5t"
      ],
      "toc_visible": true
    },
    "kernelspec": {
      "name": "python3",
      "display_name": "Python 3"
    },
    "language_info": {
      "name": "python"
    }
  },
  "cells": [
    {
      "cell_type": "markdown",
      "source": [
        "By Amanda Nurul Izzah"
      ],
      "metadata": {
        "id": "Zy6-QM5wOvOE"
      }
    },
    {
      "cell_type": "code",
      "source": [
        "import pandas as pd\n",
        "import matplotlib.pyplot as plt\n",
        "import seaborn as sns\n",
        "\n",
        "from sklearn.model_selection import train_test_split\n",
        "from statsmodels.tsa.arima.model import ARIMA\n",
        "from sklearn.metrics import mean_squared_error\n",
        "from sklearn.metrics import silhouette_score\n",
        "from sklearn.cluster import KMeans\n",
        "from math import sqrt"
      ],
      "metadata": {
        "id": "rW5wSYbMPnwm"
      },
      "execution_count": null,
      "outputs": []
    },
    {
      "cell_type": "markdown",
      "source": [
        "# Data Ingestion"
      ],
      "metadata": {
        "id": "tAEbgXnjPtK2"
      }
    },
    {
      "cell_type": "code",
      "source": [
        "customer_full = pd.read_csv('Case Study - Customer.csv', delimiter=';')\n",
        "product_full = pd.read_csv('Case Study - Product.csv', delimiter=';')\n",
        "store_full = pd.read_csv('Case Study - Store.csv', delimiter=';')\n",
        "transaction_full = pd.read_csv('Case Study - Transaction.csv', delimiter=';')"
      ],
      "metadata": {
        "id": "FtPeDTXseW_o"
      },
      "execution_count": null,
      "outputs": []
    },
    {
      "cell_type": "markdown",
      "source": [
        "# Data Cleaning"
      ],
      "metadata": {
        "id": "lECgLzL9SQRa"
      }
    },
    {
      "cell_type": "markdown",
      "source": [
        "## Customer"
      ],
      "metadata": {
        "id": "DswvGI69R_ah"
      }
    },
    {
      "cell_type": "markdown",
      "source": [
        "Data profiling"
      ],
      "metadata": {
        "id": "NKmhTPtpSXVv"
      }
    },
    {
      "cell_type": "code",
      "source": [
        "print(customer_full.isna().sum())\n",
        "\n",
        "customer_full.info()\n",
        "\n",
        "customer_full.describe()"
      ],
      "metadata": {
        "id": "JBV1vlntSCBP",
        "colab": {
          "base_uri": "https://localhost:8080/",
          "height": 613
        },
        "outputId": "01e6daca-f925-4bb6-c39e-046349a551a7"
      },
      "execution_count": null,
      "outputs": [
        {
          "output_type": "stream",
          "name": "stdout",
          "text": [
            "CustomerID        0\n",
            "Age               0\n",
            "Gender            0\n",
            "Marital Status    3\n",
            "Income            0\n",
            "dtype: int64\n",
            "<class 'pandas.core.frame.DataFrame'>\n",
            "RangeIndex: 447 entries, 0 to 446\n",
            "Data columns (total 5 columns):\n",
            " #   Column          Non-Null Count  Dtype \n",
            "---  ------          --------------  ----- \n",
            " 0   CustomerID      447 non-null    int64 \n",
            " 1   Age             447 non-null    int64 \n",
            " 2   Gender          447 non-null    int64 \n",
            " 3   Marital Status  444 non-null    object\n",
            " 4   Income          447 non-null    object\n",
            "dtypes: int64(3), object(2)\n",
            "memory usage: 17.6+ KB\n"
          ]
        },
        {
          "output_type": "execute_result",
          "data": {
            "text/plain": [
              "       CustomerID         Age      Gender\n",
              "count  447.000000  447.000000  447.000000\n",
              "mean   224.000000   39.782998    0.458613\n",
              "std    129.182042   12.848719    0.498842\n",
              "min      1.000000    0.000000    0.000000\n",
              "25%    112.500000   30.000000    0.000000\n",
              "50%    224.000000   39.000000    0.000000\n",
              "75%    335.500000   50.500000    1.000000\n",
              "max    447.000000   72.000000    1.000000"
            ],
            "text/html": [
              "\n",
              "  <div id=\"df-75851d0b-3750-4b3a-9a6f-b7733358ff72\" class=\"colab-df-container\">\n",
              "    <div>\n",
              "<style scoped>\n",
              "    .dataframe tbody tr th:only-of-type {\n",
              "        vertical-align: middle;\n",
              "    }\n",
              "\n",
              "    .dataframe tbody tr th {\n",
              "        vertical-align: top;\n",
              "    }\n",
              "\n",
              "    .dataframe thead th {\n",
              "        text-align: right;\n",
              "    }\n",
              "</style>\n",
              "<table border=\"1\" class=\"dataframe\">\n",
              "  <thead>\n",
              "    <tr style=\"text-align: right;\">\n",
              "      <th></th>\n",
              "      <th>CustomerID</th>\n",
              "      <th>Age</th>\n",
              "      <th>Gender</th>\n",
              "    </tr>\n",
              "  </thead>\n",
              "  <tbody>\n",
              "    <tr>\n",
              "      <th>count</th>\n",
              "      <td>447.000000</td>\n",
              "      <td>447.000000</td>\n",
              "      <td>447.000000</td>\n",
              "    </tr>\n",
              "    <tr>\n",
              "      <th>mean</th>\n",
              "      <td>224.000000</td>\n",
              "      <td>39.782998</td>\n",
              "      <td>0.458613</td>\n",
              "    </tr>\n",
              "    <tr>\n",
              "      <th>std</th>\n",
              "      <td>129.182042</td>\n",
              "      <td>12.848719</td>\n",
              "      <td>0.498842</td>\n",
              "    </tr>\n",
              "    <tr>\n",
              "      <th>min</th>\n",
              "      <td>1.000000</td>\n",
              "      <td>0.000000</td>\n",
              "      <td>0.000000</td>\n",
              "    </tr>\n",
              "    <tr>\n",
              "      <th>25%</th>\n",
              "      <td>112.500000</td>\n",
              "      <td>30.000000</td>\n",
              "      <td>0.000000</td>\n",
              "    </tr>\n",
              "    <tr>\n",
              "      <th>50%</th>\n",
              "      <td>224.000000</td>\n",
              "      <td>39.000000</td>\n",
              "      <td>0.000000</td>\n",
              "    </tr>\n",
              "    <tr>\n",
              "      <th>75%</th>\n",
              "      <td>335.500000</td>\n",
              "      <td>50.500000</td>\n",
              "      <td>1.000000</td>\n",
              "    </tr>\n",
              "    <tr>\n",
              "      <th>max</th>\n",
              "      <td>447.000000</td>\n",
              "      <td>72.000000</td>\n",
              "      <td>1.000000</td>\n",
              "    </tr>\n",
              "  </tbody>\n",
              "</table>\n",
              "</div>\n",
              "    <div class=\"colab-df-buttons\">\n",
              "\n",
              "  <div class=\"colab-df-container\">\n",
              "    <button class=\"colab-df-convert\" onclick=\"convertToInteractive('df-75851d0b-3750-4b3a-9a6f-b7733358ff72')\"\n",
              "            title=\"Convert this dataframe to an interactive table.\"\n",
              "            style=\"display:none;\">\n",
              "\n",
              "  <svg xmlns=\"http://www.w3.org/2000/svg\" height=\"24px\" viewBox=\"0 -960 960 960\">\n",
              "    <path d=\"M120-120v-720h720v720H120Zm60-500h600v-160H180v160Zm220 220h160v-160H400v160Zm0 220h160v-160H400v160ZM180-400h160v-160H180v160Zm440 0h160v-160H620v160ZM180-180h160v-160H180v160Zm440 0h160v-160H620v160Z\"/>\n",
              "  </svg>\n",
              "    </button>\n",
              "\n",
              "  <style>\n",
              "    .colab-df-container {\n",
              "      display:flex;\n",
              "      gap: 12px;\n",
              "    }\n",
              "\n",
              "    .colab-df-convert {\n",
              "      background-color: #E8F0FE;\n",
              "      border: none;\n",
              "      border-radius: 50%;\n",
              "      cursor: pointer;\n",
              "      display: none;\n",
              "      fill: #1967D2;\n",
              "      height: 32px;\n",
              "      padding: 0 0 0 0;\n",
              "      width: 32px;\n",
              "    }\n",
              "\n",
              "    .colab-df-convert:hover {\n",
              "      background-color: #E2EBFA;\n",
              "      box-shadow: 0px 1px 2px rgba(60, 64, 67, 0.3), 0px 1px 3px 1px rgba(60, 64, 67, 0.15);\n",
              "      fill: #174EA6;\n",
              "    }\n",
              "\n",
              "    .colab-df-buttons div {\n",
              "      margin-bottom: 4px;\n",
              "    }\n",
              "\n",
              "    [theme=dark] .colab-df-convert {\n",
              "      background-color: #3B4455;\n",
              "      fill: #D2E3FC;\n",
              "    }\n",
              "\n",
              "    [theme=dark] .colab-df-convert:hover {\n",
              "      background-color: #434B5C;\n",
              "      box-shadow: 0px 1px 3px 1px rgba(0, 0, 0, 0.15);\n",
              "      filter: drop-shadow(0px 1px 2px rgba(0, 0, 0, 0.3));\n",
              "      fill: #FFFFFF;\n",
              "    }\n",
              "  </style>\n",
              "\n",
              "    <script>\n",
              "      const buttonEl =\n",
              "        document.querySelector('#df-75851d0b-3750-4b3a-9a6f-b7733358ff72 button.colab-df-convert');\n",
              "      buttonEl.style.display =\n",
              "        google.colab.kernel.accessAllowed ? 'block' : 'none';\n",
              "\n",
              "      async function convertToInteractive(key) {\n",
              "        const element = document.querySelector('#df-75851d0b-3750-4b3a-9a6f-b7733358ff72');\n",
              "        const dataTable =\n",
              "          await google.colab.kernel.invokeFunction('convertToInteractive',\n",
              "                                                    [key], {});\n",
              "        if (!dataTable) return;\n",
              "\n",
              "        const docLinkHtml = 'Like what you see? Visit the ' +\n",
              "          '<a target=\"_blank\" href=https://colab.research.google.com/notebooks/data_table.ipynb>data table notebook</a>'\n",
              "          + ' to learn more about interactive tables.';\n",
              "        element.innerHTML = '';\n",
              "        dataTable['output_type'] = 'display_data';\n",
              "        await google.colab.output.renderOutput(dataTable, element);\n",
              "        const docLink = document.createElement('div');\n",
              "        docLink.innerHTML = docLinkHtml;\n",
              "        element.appendChild(docLink);\n",
              "      }\n",
              "    </script>\n",
              "  </div>\n",
              "\n",
              "\n",
              "<div id=\"df-fa752a01-c942-467f-b6cf-d4f4204b904f\">\n",
              "  <button class=\"colab-df-quickchart\" onclick=\"quickchart('df-fa752a01-c942-467f-b6cf-d4f4204b904f')\"\n",
              "            title=\"Suggest charts.\"\n",
              "            style=\"display:none;\">\n",
              "\n",
              "<svg xmlns=\"http://www.w3.org/2000/svg\" height=\"24px\"viewBox=\"0 0 24 24\"\n",
              "     width=\"24px\">\n",
              "    <g>\n",
              "        <path d=\"M19 3H5c-1.1 0-2 .9-2 2v14c0 1.1.9 2 2 2h14c1.1 0 2-.9 2-2V5c0-1.1-.9-2-2-2zM9 17H7v-7h2v7zm4 0h-2V7h2v10zm4 0h-2v-4h2v4z\"/>\n",
              "    </g>\n",
              "</svg>\n",
              "  </button>\n",
              "\n",
              "<style>\n",
              "  .colab-df-quickchart {\n",
              "    background-color: #E8F0FE;\n",
              "    border: none;\n",
              "    border-radius: 50%;\n",
              "    cursor: pointer;\n",
              "    display: none;\n",
              "    fill: #1967D2;\n",
              "    height: 32px;\n",
              "    padding: 0 0 0 0;\n",
              "    width: 32px;\n",
              "  }\n",
              "\n",
              "  .colab-df-quickchart:hover {\n",
              "    background-color: #E2EBFA;\n",
              "    box-shadow: 0px 1px 2px rgba(60, 64, 67, 0.3), 0px 1px 3px 1px rgba(60, 64, 67, 0.15);\n",
              "    fill: #174EA6;\n",
              "  }\n",
              "\n",
              "  [theme=dark] .colab-df-quickchart {\n",
              "    background-color: #3B4455;\n",
              "    fill: #D2E3FC;\n",
              "  }\n",
              "\n",
              "  [theme=dark] .colab-df-quickchart:hover {\n",
              "    background-color: #434B5C;\n",
              "    box-shadow: 0px 1px 3px 1px rgba(0, 0, 0, 0.15);\n",
              "    filter: drop-shadow(0px 1px 2px rgba(0, 0, 0, 0.3));\n",
              "    fill: #FFFFFF;\n",
              "  }\n",
              "</style>\n",
              "\n",
              "  <script>\n",
              "    async function quickchart(key) {\n",
              "      const charts = await google.colab.kernel.invokeFunction(\n",
              "          'suggestCharts', [key], {});\n",
              "    }\n",
              "    (() => {\n",
              "      let quickchartButtonEl =\n",
              "        document.querySelector('#df-fa752a01-c942-467f-b6cf-d4f4204b904f button');\n",
              "      quickchartButtonEl.style.display =\n",
              "        google.colab.kernel.accessAllowed ? 'block' : 'none';\n",
              "    })();\n",
              "  </script>\n",
              "</div>\n",
              "    </div>\n",
              "  </div>\n"
            ]
          },
          "metadata": {},
          "execution_count": 6
        }
      ]
    },
    {
      "cell_type": "code",
      "source": [
        "plt.hist(customer_full['Age'], bins=10)\n",
        "plt.title('Age Distribution')\n",
        "plt.xlabel('Age')\n",
        "plt.ylabel('Frequency')\n",
        "plt.show()"
      ],
      "metadata": {
        "id": "vADhZxdKa7Ht",
        "colab": {
          "base_uri": "https://localhost:8080/",
          "height": 472
        },
        "outputId": "1606b613-005a-4d04-eab2-18a6264c3081"
      },
      "execution_count": null,
      "outputs": [
        {
          "output_type": "display_data",
          "data": {
            "text/plain": [
              "<Figure size 640x480 with 1 Axes>"
            ],
            "image/png": "[encoded data removed]"
          },
          "metadata": {}
        }
      ]
    },
    {
      "cell_type": "markdown",
      "source": [
        "Handling missing values:\n",
        "\n",
        "only around 0.67% of the data is lost from dropping rows with missing values so it is a sensible option."
      ],
      "metadata": {
        "id": "lu8yf3YqSsM6"
      }
    },
    {
      "cell_type": "code",
      "source": [
        "customer_full = customer_full.dropna(subset=['Marital Status'])"
      ],
      "metadata": {
        "id": "HJcB_IzqTEhc"
      },
      "execution_count": null,
      "outputs": []
    },
    {
      "cell_type": "markdown",
      "source": [
        "Data type adjustments"
      ],
      "metadata": {
        "id": "HkYxQcZCTcSM"
      }
    },
    {
      "cell_type": "code",
      "source": [
        "customer_full['Income'] = customer_full['Income'].astype(str).str.replace(\",\", \".\")\n",
        "\n",
        "customer_full = customer_full.astype({\n",
        "        'Marital Status' : 'category',\n",
        "        'Income' : 'float'\n",
        "        })"
      ],
      "metadata": {
        "id": "iSaGmfMNTqB-",
        "colab": {
          "base_uri": "https://localhost:8080/"
        },
        "outputId": "f378ad8d-7e4d-454b-bc9f-9036b62131ee"
      },
      "execution_count": null,
      "outputs": [
        {
          "output_type": "stream",
          "name": "stderr",
          "text": [
            "<ipython-input-9-149b34f06589>:1: SettingWithCopyWarning: \n",
            "A value is trying to be set on a copy of a slice from a DataFrame.\n",
            "Try using .loc[row_indexer,col_indexer] = value instead\n",
            "\n",
            "See the caveats in the documentation: https://pandas.pydata.org/pandas-docs/stable/user_guide/indexing.html#returning-a-view-versus-a-copy\n",
            "  customer_full['Income'] = customer_full['Income'].astype(str).str.replace(\",\", \".\")\n"
          ]
        }
      ]
    },
    {
      "cell_type": "markdown",
      "source": [
        "## Product"
      ],
      "metadata": {
        "id": "aRZwDBH3Od7w"
      }
    },
    {
      "cell_type": "markdown",
      "source": [
        "Data profiling"
      ],
      "metadata": {
        "id": "J089Js1JOkD6"
      }
    },
    {
      "cell_type": "code",
      "source": [
        "print(product_full.isna().sum())\n",
        "\n",
        "product_full.info()\n",
        "\n",
        "product_full.describe()"
      ],
      "metadata": {
        "id": "8julIMVWOjK7",
        "colab": {
          "base_uri": "https://localhost:8080/",
          "height": 543
        },
        "outputId": "7bb6656e-6509-46dd-c30e-13822b252e10"
      },
      "execution_count": null,
      "outputs": [
        {
          "output_type": "stream",
          "name": "stdout",
          "text": [
            "ProductID       0\n",
            "Product Name    0\n",
            "Price           0\n",
            "dtype: int64\n",
            "<class 'pandas.core.frame.DataFrame'>\n",
            "RangeIndex: 10 entries, 0 to 9\n",
            "Data columns (total 3 columns):\n",
            " #   Column        Non-Null Count  Dtype \n",
            "---  ------        --------------  ----- \n",
            " 0   ProductID     10 non-null     object\n",
            " 1   Product Name  10 non-null     object\n",
            " 2   Price         10 non-null     int64 \n",
            "dtypes: int64(1), object(2)\n",
            "memory usage: 368.0+ bytes\n"
          ]
        },
        {
          "output_type": "execute_result",
          "data": {
            "text/plain": [
              "              Price\n",
              "count     10.000000\n",
              "mean   10410.000000\n",
              "std     4890.455557\n",
              "min     3200.000000\n",
              "25%     7825.000000\n",
              "50%     9700.000000\n",
              "75%    14250.000000\n",
              "max    18000.000000"
            ],
            "text/html": [
              "\n",
              "  <div id=\"df-607c6477-8d4b-47f5-9e4e-3cc381b2260c\" class=\"colab-df-container\">\n",
              "    <div>\n",
              "<style scoped>\n",
              "    .dataframe tbody tr th:only-of-type {\n",
              "        vertical-align: middle;\n",
              "    }\n",
              "\n",
              "    .dataframe tbody tr th {\n",
              "        vertical-align: top;\n",
              "    }\n",
              "\n",
              "    .dataframe thead th {\n",
              "        text-align: right;\n",
              "    }\n",
              "</style>\n",
              "<table border=\"1\" class=\"dataframe\">\n",
              "  <thead>\n",
              "    <tr style=\"text-align: right;\">\n",
              "      <th></th>\n",
              "      <th>Price</th>\n",
              "    </tr>\n",
              "  </thead>\n",
              "  <tbody>\n",
              "    <tr>\n",
              "      <th>count</th>\n",
              "      <td>10.000000</td>\n",
              "    </tr>\n",
              "    <tr>\n",
              "      <th>mean</th>\n",
              "      <td>10410.000000</td>\n",
              "    </tr>\n",
              "    <tr>\n",
              "      <th>std</th>\n",
              "      <td>4890.455557</td>\n",
              "    </tr>\n",
              "    <tr>\n",
              "      <th>min</th>\n",
              "      <td>3200.000000</td>\n",
              "    </tr>\n",
              "    <tr>\n",
              "      <th>25%</th>\n",
              "      <td>7825.000000</td>\n",
              "    </tr>\n",
              "    <tr>\n",
              "      <th>50%</th>\n",
              "      <td>9700.000000</td>\n",
              "    </tr>\n",
              "    <tr>\n",
              "      <th>75%</th>\n",
              "      <td>14250.000000</td>\n",
              "    </tr>\n",
              "    <tr>\n",
              "      <th>max</th>\n",
              "      <td>18000.000000</td>\n",
              "    </tr>\n",
              "  </tbody>\n",
              "</table>\n",
              "</div>\n",
              "    <div class=\"colab-df-buttons\">\n",
              "\n",
              "  <div class=\"colab-df-container\">\n",
              "    <button class=\"colab-df-convert\" onclick=\"convertToInteractive('df-607c6477-8d4b-47f5-9e4e-3cc381b2260c')\"\n",
              "            title=\"Convert this dataframe to an interactive table.\"\n",
              "            style=\"display:none;\">\n",
              "\n",
              "  <svg xmlns=\"http://www.w3.org/2000/svg\" height=\"24px\" viewBox=\"0 -960 960 960\">\n",
              "    <path d=\"M120-120v-720h720v720H120Zm60-500h600v-160H180v160Zm220 220h160v-160H400v160Zm0 220h160v-160H400v160ZM180-400h160v-160H180v160Zm440 0h160v-160H620v160ZM180-180h160v-160H180v160Zm440 0h160v-160H620v160Z\"/>\n",
              "  </svg>\n",
              "    </button>\n",
              "\n",
              "  <style>\n",
              "    .colab-df-container {\n",
              "      display:flex;\n",
              "      gap: 12px;\n",
              "    }\n",
              "\n",
              "    .colab-df-convert {\n",
              "      background-color: #E8F0FE;\n",
              "      border: none;\n",
              "      border-radius: 50%;\n",
              "      cursor: pointer;\n",
              "      display: none;\n",
              "      fill: #1967D2;\n",
              "      height: 32px;\n",
              "      padding: 0 0 0 0;\n",
              "      width: 32px;\n",
              "    }\n",
              "\n",
              "    .colab-df-convert:hover {\n",
              "      background-color: #E2EBFA;\n",
              "      box-shadow: 0px 1px 2px rgba(60, 64, 67, 0.3), 0px 1px 3px 1px rgba(60, 64, 67, 0.15);\n",
              "      fill: #174EA6;\n",
              "    }\n",
              "\n",
              "    .colab-df-buttons div {\n",
              "      margin-bottom: 4px;\n",
              "    }\n",
              "\n",
              "    [theme=dark] .colab-df-convert {\n",
              "      background-color: #3B4455;\n",
              "      fill: #D2E3FC;\n",
              "    }\n",
              "\n",
              "    [theme=dark] .colab-df-convert:hover {\n",
              "      background-color: #434B5C;\n",
              "      box-shadow: 0px 1px 3px 1px rgba(0, 0, 0, 0.15);\n",
              "      filter: drop-shadow(0px 1px 2px rgba(0, 0, 0, 0.3));\n",
              "      fill: #FFFFFF;\n",
              "    }\n",
              "  </style>\n",
              "\n",
              "    <script>\n",
              "      const buttonEl =\n",
              "        document.querySelector('#df-607c6477-8d4b-47f5-9e4e-3cc381b2260c button.colab-df-convert');\n",
              "      buttonEl.style.display =\n",
              "        google.colab.kernel.accessAllowed ? 'block' : 'none';\n",
              "\n",
              "      async function convertToInteractive(key) {\n",
              "        const element = document.querySelector('#df-607c6477-8d4b-47f5-9e4e-3cc381b2260c');\n",
              "        const dataTable =\n",
              "          await google.colab.kernel.invokeFunction('convertToInteractive',\n",
              "                                                    [key], {});\n",
              "        if (!dataTable) return;\n",
              "\n",
              "        const docLinkHtml = 'Like what you see? Visit the ' +\n",
              "          '<a target=\"_blank\" href=https://colab.research.google.com/notebooks/data_table.ipynb>data table notebook</a>'\n",
              "          + ' to learn more about interactive tables.';\n",
              "        element.innerHTML = '';\n",
              "        dataTable['output_type'] = 'display_data';\n",
              "        await google.colab.output.renderOutput(dataTable, element);\n",
              "        const docLink = document.createElement('div');\n",
              "        docLink.innerHTML = docLinkHtml;\n",
              "        element.appendChild(docLink);\n",
              "      }\n",
              "    </script>\n",
              "  </div>\n",
              "\n",
              "\n",
              "<div id=\"df-246240e1-b8cf-4d82-949b-30564696ec7b\">\n",
              "  <button class=\"colab-df-quickchart\" onclick=\"quickchart('df-246240e1-b8cf-4d82-949b-30564696ec7b')\"\n",
              "            title=\"Suggest charts.\"\n",
              "            style=\"display:none;\">\n",
              "\n",
              "<svg xmlns=\"http://www.w3.org/2000/svg\" height=\"24px\"viewBox=\"0 0 24 24\"\n",
              "     width=\"24px\">\n",
              "    <g>\n",
              "        <path d=\"M19 3H5c-1.1 0-2 .9-2 2v14c0 1.1.9 2 2 2h14c1.1 0 2-.9 2-2V5c0-1.1-.9-2-2-2zM9 17H7v-7h2v7zm4 0h-2V7h2v10zm4 0h-2v-4h2v4z\"/>\n",
              "    </g>\n",
              "</svg>\n",
              "  </button>\n",
              "\n",
              "<style>\n",
              "  .colab-df-quickchart {\n",
              "    background-color: #E8F0FE;\n",
              "    border: none;\n",
              "    border-radius: 50%;\n",
              "    cursor: pointer;\n",
              "    display: none;\n",
              "    fill: #1967D2;\n",
              "    height: 32px;\n",
              "    padding: 0 0 0 0;\n",
              "    width: 32px;\n",
              "  }\n",
              "\n",
              "  .colab-df-quickchart:hover {\n",
              "    background-color: #E2EBFA;\n",
              "    box-shadow: 0px 1px 2px rgba(60, 64, 67, 0.3), 0px 1px 3px 1px rgba(60, 64, 67, 0.15);\n",
              "    fill: #174EA6;\n",
              "  }\n",
              "\n",
              "  [theme=dark] .colab-df-quickchart {\n",
              "    background-color: #3B4455;\n",
              "    fill: #D2E3FC;\n",
              "  }\n",
              "\n",
              "  [theme=dark] .colab-df-quickchart:hover {\n",
              "    background-color: #434B5C;\n",
              "    box-shadow: 0px 1px 3px 1px rgba(0, 0, 0, 0.15);\n",
              "    filter: drop-shadow(0px 1px 2px rgba(0, 0, 0, 0.3));\n",
              "    fill: #FFFFFF;\n",
              "  }\n",
              "</style>\n",
              "\n",
              "  <script>\n",
              "    async function quickchart(key) {\n",
              "      const charts = await google.colab.kernel.invokeFunction(\n",
              "          'suggestCharts', [key], {});\n",
              "    }\n",
              "    (() => {\n",
              "      let quickchartButtonEl =\n",
              "        document.querySelector('#df-246240e1-b8cf-4d82-949b-30564696ec7b button');\n",
              "      quickchartButtonEl.style.display =\n",
              "        google.colab.kernel.accessAllowed ? 'block' : 'none';\n",
              "    })();\n",
              "  </script>\n",
              "</div>\n",
              "    </div>\n",
              "  </div>\n"
            ]
          },
          "metadata": {},
          "execution_count": 10
        }
      ]
    },
    {
      "cell_type": "markdown",
      "source": [
        "No missing values"
      ],
      "metadata": {
        "id": "-ubtfrMzPA9u"
      }
    },
    {
      "cell_type": "markdown",
      "source": [
        "No data type adjustments needed"
      ],
      "metadata": {
        "id": "g8MvMNKIPD0N"
      }
    },
    {
      "cell_type": "markdown",
      "source": [
        "## Store"
      ],
      "metadata": {
        "id": "Cj22EzT-PIdP"
      }
    },
    {
      "cell_type": "code",
      "source": [
        "print(store_full.isna().sum())\n",
        "\n",
        "store_full.info()\n",
        "\n",
        "store_full.describe()"
      ],
      "metadata": {
        "id": "RvL4vZxhPL32",
        "colab": {
          "base_uri": "https://localhost:8080/",
          "height": 647
        },
        "outputId": "d66d204a-4d0a-4c9a-aae7-93faca5fe5bd"
      },
      "execution_count": null,
      "outputs": [
        {
          "output_type": "stream",
          "name": "stdout",
          "text": [
            "StoreID       0\n",
            "StoreName     0\n",
            "GroupStore    0\n",
            "Type          0\n",
            "Latitude      0\n",
            "Longitude     0\n",
            "dtype: int64\n",
            "<class 'pandas.core.frame.DataFrame'>\n",
            "RangeIndex: 14 entries, 0 to 13\n",
            "Data columns (total 6 columns):\n",
            " #   Column      Non-Null Count  Dtype \n",
            "---  ------      --------------  ----- \n",
            " 0   StoreID     14 non-null     int64 \n",
            " 1   StoreName   14 non-null     object\n",
            " 2   GroupStore  14 non-null     object\n",
            " 3   Type        14 non-null     object\n",
            " 4   Latitude    14 non-null     object\n",
            " 5   Longitude   14 non-null     object\n",
            "dtypes: int64(1), object(5)\n",
            "memory usage: 800.0+ bytes\n"
          ]
        },
        {
          "output_type": "execute_result",
          "data": {
            "text/plain": [
              "       StoreID\n",
              "count  14.0000\n",
              "mean    7.5000\n",
              "std     4.1833\n",
              "min     1.0000\n",
              "25%     4.2500\n",
              "50%     7.5000\n",
              "75%    10.7500\n",
              "max    14.0000"
            ],
            "text/html": [
              "\n",
              "  <div id=\"df-72eaa013-4f3b-410e-826c-c668d7ed8837\" class=\"colab-df-container\">\n",
              "    <div>\n",
              "<style scoped>\n",
              "    .dataframe tbody tr th:only-of-type {\n",
              "        vertical-align: middle;\n",
              "    }\n",
              "\n",
              "    .dataframe tbody tr th {\n",
              "        vertical-align: top;\n",
              "    }\n",
              "\n",
              "    .dataframe thead th {\n",
              "        text-align: right;\n",
              "    }\n",
              "</style>\n",
              "<table border=\"1\" class=\"dataframe\">\n",
              "  <thead>\n",
              "    <tr style=\"text-align: right;\">\n",
              "      <th></th>\n",
              "      <th>StoreID</th>\n",
              "    </tr>\n",
              "  </thead>\n",
              "  <tbody>\n",
              "    <tr>\n",
              "      <th>count</th>\n",
              "      <td>14.0000</td>\n",
              "    </tr>\n",
              "    <tr>\n",
              "      <th>mean</th>\n",
              "      <td>7.5000</td>\n",
              "    </tr>\n",
              "    <tr>\n",
              "      <th>std</th>\n",
              "      <td>4.1833</td>\n",
              "    </tr>\n",
              "    <tr>\n",
              "      <th>min</th>\n",
              "      <td>1.0000</td>\n",
              "    </tr>\n",
              "    <tr>\n",
              "      <th>25%</th>\n",
              "      <td>4.2500</td>\n",
              "    </tr>\n",
              "    <tr>\n",
              "      <th>50%</th>\n",
              "      <td>7.5000</td>\n",
              "    </tr>\n",
              "    <tr>\n",
              "      <th>75%</th>\n",
              "      <td>10.7500</td>\n",
              "    </tr>\n",
              "    <tr>\n",
              "      <th>max</th>\n",
              "      <td>14.0000</td>\n",
              "    </tr>\n",
              "  </tbody>\n",
              "</table>\n",
              "</div>\n",
              "    <div class=\"colab-df-buttons\">\n",
              "\n",
              "  <div class=\"colab-df-container\">\n",
              "    <button class=\"colab-df-convert\" onclick=\"convertToInteractive('df-72eaa013-4f3b-410e-826c-c668d7ed8837')\"\n",
              "            title=\"Convert this dataframe to an interactive table.\"\n",
              "            style=\"display:none;\">\n",
              "\n",
              "  <svg xmlns=\"http://www.w3.org/2000/svg\" height=\"24px\" viewBox=\"0 -960 960 960\">\n",
              "    <path d=\"M120-120v-720h720v720H120Zm60-500h600v-160H180v160Zm220 220h160v-160H400v160Zm0 220h160v-160H400v160ZM180-400h160v-160H180v160Zm440 0h160v-160H620v160ZM180-180h160v-160H180v160Zm440 0h160v-160H620v160Z\"/>\n",
              "  </svg>\n",
              "    </button>\n",
              "\n",
              "  <style>\n",
              "    .colab-df-container {\n",
              "      display:flex;\n",
              "      gap: 12px;\n",
              "    }\n",
              "\n",
              "    .colab-df-convert {\n",
              "      background-color: #E8F0FE;\n",
              "      border: none;\n",
              "      border-radius: 50%;\n",
              "      cursor: pointer;\n",
              "      display: none;\n",
              "      fill: #1967D2;\n",
              "      height: 32px;\n",
              "      padding: 0 0 0 0;\n",
              "      width: 32px;\n",
              "    }\n",
              "\n",
              "    .colab-df-convert:hover {\n",
              "      background-color: #E2EBFA;\n",
              "      box-shadow: 0px 1px 2px rgba(60, 64, 67, 0.3), 0px 1px 3px 1px rgba(60, 64, 67, 0.15);\n",
              "      fill: #174EA6;\n",
              "    }\n",
              "\n",
              "    .colab-df-buttons div {\n",
              "      margin-bottom: 4px;\n",
              "    }\n",
              "\n",
              "    [theme=dark] .colab-df-convert {\n",
              "      background-color: #3B4455;\n",
              "      fill: #D2E3FC;\n",
              "    }\n",
              "\n",
              "    [theme=dark] .colab-df-convert:hover {\n",
              "      background-color: #434B5C;\n",
              "      box-shadow: 0px 1px 3px 1px rgba(0, 0, 0, 0.15);\n",
              "      filter: drop-shadow(0px 1px 2px rgba(0, 0, 0, 0.3));\n",
              "      fill: #FFFFFF;\n",
              "    }\n",
              "  </style>\n",
              "\n",
              "    <script>\n",
              "      const buttonEl =\n",
              "        document.querySelector('#df-72eaa013-4f3b-410e-826c-c668d7ed8837 button.colab-df-convert');\n",
              "      buttonEl.style.display =\n",
              "        google.colab.kernel.accessAllowed ? 'block' : 'none';\n",
              "\n",
              "      async function convertToInteractive(key) {\n",
              "        const element = document.querySelector('#df-72eaa013-4f3b-410e-826c-c668d7ed8837');\n",
              "        const dataTable =\n",
              "          await google.colab.kernel.invokeFunction('convertToInteractive',\n",
              "                                                    [key], {});\n",
              "        if (!dataTable) return;\n",
              "\n",
              "        const docLinkHtml = 'Like what you see? Visit the ' +\n",
              "          '<a target=\"_blank\" href=https://colab.research.google.com/notebooks/data_table.ipynb>data table notebook</a>'\n",
              "          + ' to learn more about interactive tables.';\n",
              "        element.innerHTML = '';\n",
              "        dataTable['output_type'] = 'display_data';\n",
              "        await google.colab.output.renderOutput(dataTable, element);\n",
              "        const docLink = document.createElement('div');\n",
              "        docLink.innerHTML = docLinkHtml;\n",
              "        element.appendChild(docLink);\n",
              "      }\n",
              "    </script>\n",
              "  </div>\n",
              "\n",
              "\n",
              "<div id=\"df-19b437c0-e4f4-4a54-9ad6-dd7600d51af8\">\n",
              "  <button class=\"colab-df-quickchart\" onclick=\"quickchart('df-19b437c0-e4f4-4a54-9ad6-dd7600d51af8')\"\n",
              "            title=\"Suggest charts.\"\n",
              "            style=\"display:none;\">\n",
              "\n",
              "<svg xmlns=\"http://www.w3.org/2000/svg\" height=\"24px\"viewBox=\"0 0 24 24\"\n",
              "     width=\"24px\">\n",
              "    <g>\n",
              "        <path d=\"M19 3H5c-1.1 0-2 .9-2 2v14c0 1.1.9 2 2 2h14c1.1 0 2-.9 2-2V5c0-1.1-.9-2-2-2zM9 17H7v-7h2v7zm4 0h-2V7h2v10zm4 0h-2v-4h2v4z\"/>\n",
              "    </g>\n",
              "</svg>\n",
              "  </button>\n",
              "\n",
              "<style>\n",
              "  .colab-df-quickchart {\n",
              "    background-color: #E8F0FE;\n",
              "    border: none;\n",
              "    border-radius: 50%;\n",
              "    cursor: pointer;\n",
              "    display: none;\n",
              "    fill: #1967D2;\n",
              "    height: 32px;\n",
              "    padding: 0 0 0 0;\n",
              "    width: 32px;\n",
              "  }\n",
              "\n",
              "  .colab-df-quickchart:hover {\n",
              "    background-color: #E2EBFA;\n",
              "    box-shadow: 0px 1px 2px rgba(60, 64, 67, 0.3), 0px 1px 3px 1px rgba(60, 64, 67, 0.15);\n",
              "    fill: #174EA6;\n",
              "  }\n",
              "\n",
              "  [theme=dark] .colab-df-quickchart {\n",
              "    background-color: #3B4455;\n",
              "    fill: #D2E3FC;\n",
              "  }\n",
              "\n",
              "  [theme=dark] .colab-df-quickchart:hover {\n",
              "    background-color: #434B5C;\n",
              "    box-shadow: 0px 1px 3px 1px rgba(0, 0, 0, 0.15);\n",
              "    filter: drop-shadow(0px 1px 2px rgba(0, 0, 0, 0.3));\n",
              "    fill: #FFFFFF;\n",
              "  }\n",
              "</style>\n",
              "\n",
              "  <script>\n",
              "    async function quickchart(key) {\n",
              "      const charts = await google.colab.kernel.invokeFunction(\n",
              "          'suggestCharts', [key], {});\n",
              "    }\n",
              "    (() => {\n",
              "      let quickchartButtonEl =\n",
              "        document.querySelector('#df-19b437c0-e4f4-4a54-9ad6-dd7600d51af8 button');\n",
              "      quickchartButtonEl.style.display =\n",
              "        google.colab.kernel.accessAllowed ? 'block' : 'none';\n",
              "    })();\n",
              "  </script>\n",
              "</div>\n",
              "    </div>\n",
              "  </div>\n"
            ]
          },
          "metadata": {},
          "execution_count": 11
        }
      ]
    },
    {
      "cell_type": "markdown",
      "source": [
        "No missing values"
      ],
      "metadata": {
        "id": "pS9ngBK5PZLf"
      }
    },
    {
      "cell_type": "markdown",
      "source": [
        "Data type adjustments"
      ],
      "metadata": {
        "id": "zSIsCF9NPbPx"
      }
    },
    {
      "cell_type": "code",
      "source": [
        "store_full['Latitude'] = store_full['Latitude'].astype(str).str.replace(\",\", \".\")\n",
        "store_full['Longitude'] = store_full['Longitude'].astype(str).str.replace(\",\", \".\")\n",
        "\n",
        "store_full = store_full.astype({\n",
        "        'Type' : 'category',\n",
        "        'Latitude'  : 'double',\n",
        "        'Longitude'  : 'double'\n",
        "        })"
      ],
      "metadata": {
        "id": "yJmCLbT8PfZS"
      },
      "execution_count": null,
      "outputs": []
    },
    {
      "cell_type": "markdown",
      "source": [
        "## Transaction"
      ],
      "metadata": {
        "id": "2bdqu6H7Sk5t"
      }
    },
    {
      "cell_type": "code",
      "source": [
        "print(transaction_full.isna().sum())\n",
        "\n",
        "transaction_full.info()\n",
        "\n",
        "transaction_full.describe()"
      ],
      "metadata": {
        "id": "MDKTtTWeSnez",
        "colab": {
          "base_uri": "https://localhost:8080/",
          "height": 717
        },
        "outputId": "54a39b0b-f55e-4b93-ace2-a755fdd52dfe"
      },
      "execution_count": null,
      "outputs": [
        {
          "output_type": "stream",
          "name": "stdout",
          "text": [
            "TransactionID    0\n",
            "CustomerID       0\n",
            "Date             0\n",
            "ProductID        0\n",
            "Price            0\n",
            "Qty              0\n",
            "TotalAmount      0\n",
            "StoreID          0\n",
            "dtype: int64\n",
            "<class 'pandas.core.frame.DataFrame'>\n",
            "RangeIndex: 5020 entries, 0 to 5019\n",
            "Data columns (total 8 columns):\n",
            " #   Column         Non-Null Count  Dtype \n",
            "---  ------         --------------  ----- \n",
            " 0   TransactionID  5020 non-null   object\n",
            " 1   CustomerID     5020 non-null   int64 \n",
            " 2   Date           5020 non-null   object\n",
            " 3   ProductID      5020 non-null   object\n",
            " 4   Price          5020 non-null   int64 \n",
            " 5   Qty            5020 non-null   int64 \n",
            " 6   TotalAmount    5020 non-null   int64 \n",
            " 7   StoreID        5020 non-null   int64 \n",
            "dtypes: int64(5), object(3)\n",
            "memory usage: 313.9+ KB\n"
          ]
        },
        {
          "output_type": "execute_result",
          "data": {
            "text/plain": [
              "        CustomerID         Price          Qty   TotalAmount      StoreID\n",
              "count  5020.000000   5020.000000  5020.000000   5020.000000  5020.000000\n",
              "mean    221.263745   9684.800797     3.644622  32279.482072     7.489841\n",
              "std     129.672955   4600.708780     1.855295  19675.462455     4.028502\n",
              "min       1.000000   3200.000000     1.000000   7500.000000     1.000000\n",
              "25%     108.000000   4200.000000     2.000000  16000.000000     4.000000\n",
              "50%     221.000000   9400.000000     3.000000  28200.000000     7.000000\n",
              "75%     332.000000  15000.000000     5.000000  47000.000000    11.000000\n",
              "max     447.000000  18000.000000    10.000000  88000.000000    14.000000"
            ],
            "text/html": [
              "\n",
              "  <div id=\"df-fb126d00-aeac-4573-aab6-0e231e63e10d\" class=\"colab-df-container\">\n",
              "    <div>\n",
              "<style scoped>\n",
              "    .dataframe tbody tr th:only-of-type {\n",
              "        vertical-align: middle;\n",
              "    }\n",
              "\n",
              "    .dataframe tbody tr th {\n",
              "        vertical-align: top;\n",
              "    }\n",
              "\n",
              "    .dataframe thead th {\n",
              "        text-align: right;\n",
              "    }\n",
              "</style>\n",
              "<table border=\"1\" class=\"dataframe\">\n",
              "  <thead>\n",
              "    <tr style=\"text-align: right;\">\n",
              "      <th></th>\n",
              "      <th>CustomerID</th>\n",
              "      <th>Price</th>\n",
              "      <th>Qty</th>\n",
              "      <th>TotalAmount</th>\n",
              "      <th>StoreID</th>\n",
              "    </tr>\n",
              "  </thead>\n",
              "  <tbody>\n",
              "    <tr>\n",
              "      <th>count</th>\n",
              "      <td>5020.000000</td>\n",
              "      <td>5020.000000</td>\n",
              "      <td>5020.000000</td>\n",
              "      <td>5020.000000</td>\n",
              "      <td>5020.000000</td>\n",
              "    </tr>\n",
              "    <tr>\n",
              "      <th>mean</th>\n",
              "      <td>221.263745</td>\n",
              "      <td>9684.800797</td>\n",
              "      <td>3.644622</td>\n",
              "      <td>32279.482072</td>\n",
              "      <td>7.489841</td>\n",
              "    </tr>\n",
              "    <tr>\n",
              "      <th>std</th>\n",
              "      <td>129.672955</td>\n",
              "      <td>4600.708780</td>\n",
              "      <td>1.855295</td>\n",
              "      <td>19675.462455</td>\n",
              "      <td>4.028502</td>\n",
              "    </tr>\n",
              "    <tr>\n",
              "      <th>min</th>\n",
              "      <td>1.000000</td>\n",
              "      <td>3200.000000</td>\n",
              "      <td>1.000000</td>\n",
              "      <td>7500.000000</td>\n",
              "      <td>1.000000</td>\n",
              "    </tr>\n",
              "    <tr>\n",
              "      <th>25%</th>\n",
              "      <td>108.000000</td>\n",
              "      <td>4200.000000</td>\n",
              "      <td>2.000000</td>\n",
              "      <td>16000.000000</td>\n",
              "      <td>4.000000</td>\n",
              "    </tr>\n",
              "    <tr>\n",
              "      <th>50%</th>\n",
              "      <td>221.000000</td>\n",
              "      <td>9400.000000</td>\n",
              "      <td>3.000000</td>\n",
              "      <td>28200.000000</td>\n",
              "      <td>7.000000</td>\n",
              "    </tr>\n",
              "    <tr>\n",
              "      <th>75%</th>\n",
              "      <td>332.000000</td>\n",
              "      <td>15000.000000</td>\n",
              "      <td>5.000000</td>\n",
              "      <td>47000.000000</td>\n",
              "      <td>11.000000</td>\n",
              "    </tr>\n",
              "    <tr>\n",
              "      <th>max</th>\n",
              "      <td>447.000000</td>\n",
              "      <td>18000.000000</td>\n",
              "      <td>10.000000</td>\n",
              "      <td>88000.000000</td>\n",
              "      <td>14.000000</td>\n",
              "    </tr>\n",
              "  </tbody>\n",
              "</table>\n",
              "</div>\n",
              "    <div class=\"colab-df-buttons\">\n",
              "\n",
              "  <div class=\"colab-df-container\">\n",
              "    <button class=\"colab-df-convert\" onclick=\"convertToInteractive('df-fb126d00-aeac-4573-aab6-0e231e63e10d')\"\n",
              "            title=\"Convert this dataframe to an interactive table.\"\n",
              "            style=\"display:none;\">\n",
              "\n",
              "  <svg xmlns=\"http://www.w3.org/2000/svg\" height=\"24px\" viewBox=\"0 -960 960 960\">\n",
              "    <path d=\"M120-120v-720h720v720H120Zm60-500h600v-160H180v160Zm220 220h160v-160H400v160Zm0 220h160v-160H400v160ZM180-400h160v-160H180v160Zm440 0h160v-160H620v160ZM180-180h160v-160H180v160Zm440 0h160v-160H620v160Z\"/>\n",
              "  </svg>\n",
              "    </button>\n",
              "\n",
              "  <style>\n",
              "    .colab-df-container {\n",
              "      display:flex;\n",
              "      gap: 12px;\n",
              "    }\n",
              "\n",
              "    .colab-df-convert {\n",
              "      background-color: #E8F0FE;\n",
              "      border: none;\n",
              "      border-radius: 50%;\n",
              "      cursor: pointer;\n",
              "      display: none;\n",
              "      fill: #1967D2;\n",
              "      height: 32px;\n",
              "      padding: 0 0 0 0;\n",
              "      width: 32px;\n",
              "    }\n",
              "\n",
              "    .colab-df-convert:hover {\n",
              "      background-color: #E2EBFA;\n",
              "      box-shadow: 0px 1px 2px rgba(60, 64, 67, 0.3), 0px 1px 3px 1px rgba(60, 64, 67, 0.15);\n",
              "      fill: #174EA6;\n",
              "    }\n",
              "\n",
              "    .colab-df-buttons div {\n",
              "      margin-bottom: 4px;\n",
              "    }\n",
              "\n",
              "    [theme=dark] .colab-df-convert {\n",
              "      background-color: #3B4455;\n",
              "      fill: #D2E3FC;\n",
              "    }\n",
              "\n",
              "    [theme=dark] .colab-df-convert:hover {\n",
              "      background-color: #434B5C;\n",
              "      box-shadow: 0px 1px 3px 1px rgba(0, 0, 0, 0.15);\n",
              "      filter: drop-shadow(0px 1px 2px rgba(0, 0, 0, 0.3));\n",
              "      fill: #FFFFFF;\n",
              "    }\n",
              "  </style>\n",
              "\n",
              "    <script>\n",
              "      const buttonEl =\n",
              "        document.querySelector('#df-fb126d00-aeac-4573-aab6-0e231e63e10d button.colab-df-convert');\n",
              "      buttonEl.style.display =\n",
              "        google.colab.kernel.accessAllowed ? 'block' : 'none';\n",
              "\n",
              "      async function convertToInteractive(key) {\n",
              "        const element = document.querySelector('#df-fb126d00-aeac-4573-aab6-0e231e63e10d');\n",
              "        const dataTable =\n",
              "          await google.colab.kernel.invokeFunction('convertToInteractive',\n",
              "                                                    [key], {});\n",
              "        if (!dataTable) return;\n",
              "\n",
              "        const docLinkHtml = 'Like what you see? Visit the ' +\n",
              "          '<a target=\"_blank\" href=https://colab.research.google.com/notebooks/data_table.ipynb>data table notebook</a>'\n",
              "          + ' to learn more about interactive tables.';\n",
              "        element.innerHTML = '';\n",
              "        dataTable['output_type'] = 'display_data';\n",
              "        await google.colab.output.renderOutput(dataTable, element);\n",
              "        const docLink = document.createElement('div');\n",
              "        docLink.innerHTML = docLinkHtml;\n",
              "        element.appendChild(docLink);\n",
              "      }\n",
              "    </script>\n",
              "  </div>\n",
              "\n",
              "\n",
              "<div id=\"df-58fa061a-c878-481f-b346-7f216437b2da\">\n",
              "  <button class=\"colab-df-quickchart\" onclick=\"quickchart('df-58fa061a-c878-481f-b346-7f216437b2da')\"\n",
              "            title=\"Suggest charts.\"\n",
              "            style=\"display:none;\">\n",
              "\n",
              "<svg xmlns=\"http://www.w3.org/2000/svg\" height=\"24px\"viewBox=\"0 0 24 24\"\n",
              "     width=\"24px\">\n",
              "    <g>\n",
              "        <path d=\"M19 3H5c-1.1 0-2 .9-2 2v14c0 1.1.9 2 2 2h14c1.1 0 2-.9 2-2V5c0-1.1-.9-2-2-2zM9 17H7v-7h2v7zm4 0h-2V7h2v10zm4 0h-2v-4h2v4z\"/>\n",
              "    </g>\n",
              "</svg>\n",
              "  </button>\n",
              "\n",
              "<style>\n",
              "  .colab-df-quickchart {\n",
              "    background-color: #E8F0FE;\n",
              "    border: none;\n",
              "    border-radius: 50%;\n",
              "    cursor: pointer;\n",
              "    display: none;\n",
              "    fill: #1967D2;\n",
              "    height: 32px;\n",
              "    padding: 0 0 0 0;\n",
              "    width: 32px;\n",
              "  }\n",
              "\n",
              "  .colab-df-quickchart:hover {\n",
              "    background-color: #E2EBFA;\n",
              "    box-shadow: 0px 1px 2px rgba(60, 64, 67, 0.3), 0px 1px 3px 1px rgba(60, 64, 67, 0.15);\n",
              "    fill: #174EA6;\n",
              "  }\n",
              "\n",
              "  [theme=dark] .colab-df-quickchart {\n",
              "    background-color: #3B4455;\n",
              "    fill: #D2E3FC;\n",
              "  }\n",
              "\n",
              "  [theme=dark] .colab-df-quickchart:hover {\n",
              "    background-color: #434B5C;\n",
              "    box-shadow: 0px 1px 3px 1px rgba(0, 0, 0, 0.15);\n",
              "    filter: drop-shadow(0px 1px 2px rgba(0, 0, 0, 0.3));\n",
              "    fill: #FFFFFF;\n",
              "  }\n",
              "</style>\n",
              "\n",
              "  <script>\n",
              "    async function quickchart(key) {\n",
              "      const charts = await google.colab.kernel.invokeFunction(\n",
              "          'suggestCharts', [key], {});\n",
              "    }\n",
              "    (() => {\n",
              "      let quickchartButtonEl =\n",
              "        document.querySelector('#df-58fa061a-c878-481f-b346-7f216437b2da button');\n",
              "      quickchartButtonEl.style.display =\n",
              "        google.colab.kernel.accessAllowed ? 'block' : 'none';\n",
              "    })();\n",
              "  </script>\n",
              "</div>\n",
              "    </div>\n",
              "  </div>\n"
            ]
          },
          "metadata": {},
          "execution_count": 13
        }
      ]
    },
    {
      "cell_type": "markdown",
      "source": [
        "No missing values"
      ],
      "metadata": {
        "id": "ihMFtVrgSsqE"
      }
    },
    {
      "cell_type": "markdown",
      "source": [
        "Data type adjustments"
      ],
      "metadata": {
        "id": "ULiC6vZtUYMG"
      }
    },
    {
      "cell_type": "code",
      "source": [
        "transaction_full['Date'] = pd.to_datetime(transaction_full['Date'], format='%d/%m/%Y')"
      ],
      "metadata": {
        "id": "p_l03VT0SsTd"
      },
      "execution_count": null,
      "outputs": []
    },
    {
      "cell_type": "markdown",
      "source": [
        "# Merge Data"
      ],
      "metadata": {
        "id": "QN-MgbyCVAdD"
      }
    },
    {
      "cell_type": "code",
      "source": [
        "# drop duplicate columns\n",
        "product_full = product_full.drop(['Price'], axis=1)"
      ],
      "metadata": {
        "id": "B6vKji2Zl6hM"
      },
      "execution_count": null,
      "outputs": []
    },
    {
      "cell_type": "code",
      "source": [
        "full = transaction_full.merge(customer_full, how='left', on='CustomerID')\n",
        "full = full.merge(product_full, how='left', on='ProductID')\n",
        "full = full.merge(store_full, how='left', on='StoreID')\n",
        "\n",
        "full.head()"
      ],
      "metadata": {
        "id": "HM395rcomQFo",
        "colab": {
          "base_uri": "https://localhost:8080/",
          "height": 310
        },
        "outputId": "472e0423-5fec-4479-fef7-e638d3b7cf08"
      },
      "execution_count": null,
      "outputs": [
        {
          "output_type": "execute_result",
          "data": {
            "text/plain": [
              "  TransactionID  CustomerID       Date ProductID  Price  Qty  TotalAmount  \\\n",
              "0       TR11369         328 2022-01-01        P3   7500    4        30000   \n",
              "1       TR16356         165 2022-01-01        P9  10000    7        70000   \n",
              "2        TR1984         183 2022-01-01        P1   8800    4        35200   \n",
              "3       TR35256         160 2022-01-01        P1   8800    7        61600   \n",
              "4       TR41231         386 2022-01-01        P9  10000    1        10000   \n",
              "\n",
              "   StoreID   Age  Gender Marital Status  Income Product Name       StoreName  \\\n",
              "0       12  36.0     0.0        Married   10.53     Crackers  Prestasi Utama   \n",
              "1        1  44.0     1.0        Married   14.58      Yoghurt   Prima Tendean   \n",
              "2        4  27.0     1.0         Single    0.18    Choco Bar     Gita Ginara   \n",
              "3        4  48.0     1.0        Married   12.57    Choco Bar     Gita Ginara   \n",
              "4        4  33.0     0.0        Married    6.95      Yoghurt     Gita Ginara   \n",
              "\n",
              "  GroupStore           Type  Latitude   Longitude  \n",
              "0   Prestasi  General Trade -2.990934  104.756554  \n",
              "1      Prima   Modern Trade -6.200000  106.816666  \n",
              "2       Gita  General Trade -6.966667  110.416664  \n",
              "3       Gita  General Trade -6.966667  110.416664  \n",
              "4       Gita  General Trade -6.966667  110.416664  "
            ],
            "text/html": [
              "\n",
              "  <div id=\"df-24181b30-0456-4b58-bcb0-dee1bdf12df3\" class=\"colab-df-container\">\n",
              "    <div>\n",
              "<style scoped>\n",
              "    .dataframe tbody tr th:only-of-type {\n",
              "        vertical-align: middle;\n",
              "    }\n",
              "\n",
              "    .dataframe tbody tr th {\n",
              "        vertical-align: top;\n",
              "    }\n",
              "\n",
              "    .dataframe thead th {\n",
              "        text-align: right;\n",
              "    }\n",
              "</style>\n",
              "<table border=\"1\" class=\"dataframe\">\n",
              "  <thead>\n",
              "    <tr style=\"text-align: right;\">\n",
              "      <th></th>\n",
              "      <th>TransactionID</th>\n",
              "      <th>CustomerID</th>\n",
              "      <th>Date</th>\n",
              "      <th>ProductID</th>\n",
              "      <th>Price</th>\n",
              "      <th>Qty</th>\n",
              "      <th>TotalAmount</th>\n",
              "      <th>StoreID</th>\n",
              "      <th>Age</th>\n",
              "      <th>Gender</th>\n",
              "      <th>Marital Status</th>\n",
              "      <th>Income</th>\n",
              "      <th>Product Name</th>\n",
              "      <th>StoreName</th>\n",
              "      <th>GroupStore</th>\n",
              "      <th>Type</th>\n",
              "      <th>Latitude</th>\n",
              "      <th>Longitude</th>\n",
              "    </tr>\n",
              "  </thead>\n",
              "  <tbody>\n",
              "    <tr>\n",
              "      <th>0</th>\n",
              "      <td>TR11369</td>\n",
              "      <td>328</td>\n",
              "      <td>2022-01-01</td>\n",
              "      <td>P3</td>\n",
              "      <td>7500</td>\n",
              "      <td>4</td>\n",
              "      <td>30000</td>\n",
              "      <td>12</td>\n",
              "      <td>36.0</td>\n",
              "      <td>0.0</td>\n",
              "      <td>Married</td>\n",
              "      <td>10.53</td>\n",
              "      <td>Crackers</td>\n",
              "      <td>Prestasi Utama</td>\n",
              "      <td>Prestasi</td>\n",
              "      <td>General Trade</td>\n",
              "      <td>-2.990934</td>\n",
              "      <td>104.756554</td>\n",
              "    </tr>\n",
              "    <tr>\n",
              "      <th>1</th>\n",
              "      <td>TR16356</td>\n",
              "      <td>165</td>\n",
              "      <td>2022-01-01</td>\n",
              "      <td>P9</td>\n",
              "      <td>10000</td>\n",
              "      <td>7</td>\n",
              "      <td>70000</td>\n",
              "      <td>1</td>\n",
              "      <td>44.0</td>\n",
              "      <td>1.0</td>\n",
              "      <td>Married</td>\n",
              "      <td>14.58</td>\n",
              "      <td>Yoghurt</td>\n",
              "      <td>Prima Tendean</td>\n",
              "      <td>Prima</td>\n",
              "      <td>Modern Trade</td>\n",
              "      <td>-6.200000</td>\n",
              "      <td>106.816666</td>\n",
              "    </tr>\n",
              "    <tr>\n",
              "      <th>2</th>\n",
              "      <td>TR1984</td>\n",
              "      <td>183</td>\n",
              "      <td>2022-01-01</td>\n",
              "      <td>P1</td>\n",
              "      <td>8800</td>\n",
              "      <td>4</td>\n",
              "      <td>35200</td>\n",
              "      <td>4</td>\n",
              "      <td>27.0</td>\n",
              "      <td>1.0</td>\n",
              "      <td>Single</td>\n",
              "      <td>0.18</td>\n",
              "      <td>Choco Bar</td>\n",
              "      <td>Gita Ginara</td>\n",
              "      <td>Gita</td>\n",
              "      <td>General Trade</td>\n",
              "      <td>-6.966667</td>\n",
              "      <td>110.416664</td>\n",
              "    </tr>\n",
              "    <tr>\n",
              "      <th>3</th>\n",
              "      <td>TR35256</td>\n",
              "      <td>160</td>\n",
              "      <td>2022-01-01</td>\n",
              "      <td>P1</td>\n",
              "      <td>8800</td>\n",
              "      <td>7</td>\n",
              "      <td>61600</td>\n",
              "      <td>4</td>\n",
              "      <td>48.0</td>\n",
              "      <td>1.0</td>\n",
              "      <td>Married</td>\n",
              "      <td>12.57</td>\n",
              "      <td>Choco Bar</td>\n",
              "      <td>Gita Ginara</td>\n",
              "      <td>Gita</td>\n",
              "      <td>General Trade</td>\n",
              "      <td>-6.966667</td>\n",
              "      <td>110.416664</td>\n",
              "    </tr>\n",
              "    <tr>\n",
              "      <th>4</th>\n",
              "      <td>TR41231</td>\n",
              "      <td>386</td>\n",
              "      <td>2022-01-01</td>\n",
              "      <td>P9</td>\n",
              "      <td>10000</td>\n",
              "      <td>1</td>\n",
              "      <td>10000</td>\n",
              "      <td>4</td>\n",
              "      <td>33.0</td>\n",
              "      <td>0.0</td>\n",
              "      <td>Married</td>\n",
              "      <td>6.95</td>\n",
              "      <td>Yoghurt</td>\n",
              "      <td>Gita Ginara</td>\n",
              "      <td>Gita</td>\n",
              "      <td>General Trade</td>\n",
              "      <td>-6.966667</td>\n",
              "      <td>110.416664</td>\n",
              "    </tr>\n",
              "  </tbody>\n",
              "</table>\n",
              "</div>\n",
              "    <div class=\"colab-df-buttons\">\n",
              "\n",
              "  <div class=\"colab-df-container\">\n",
              "    <button class=\"colab-df-convert\" onclick=\"convertToInteractive('df-24181b30-0456-4b58-bcb0-dee1bdf12df3')\"\n",
              "            title=\"Convert this dataframe to an interactive table.\"\n",
              "            style=\"display:none;\">\n",
              "\n",
              "  <svg xmlns=\"http://www.w3.org/2000/svg\" height=\"24px\" viewBox=\"0 -960 960 960\">\n",
              "    <path d=\"M120-120v-720h720v720H120Zm60-500h600v-160H180v160Zm220 220h160v-160H400v160Zm0 220h160v-160H400v160ZM180-400h160v-160H180v160Zm440 0h160v-160H620v160ZM180-180h160v-160H180v160Zm440 0h160v-160H620v160Z\"/>\n",
              "  </svg>\n",
              "    </button>\n",
              "\n",
              "  <style>\n",
              "    .colab-df-container {\n",
              "      display:flex;\n",
              "      gap: 12px;\n",
              "    }\n",
              "\n",
              "    .colab-df-convert {\n",
              "      background-color: #E8F0FE;\n",
              "      border: none;\n",
              "      border-radius: 50%;\n",
              "      cursor: pointer;\n",
              "      display: none;\n",
              "      fill: #1967D2;\n",
              "      height: 32px;\n",
              "      padding: 0 0 0 0;\n",
              "      width: 32px;\n",
              "    }\n",
              "\n",
              "    .colab-df-convert:hover {\n",
              "      background-color: #E2EBFA;\n",
              "      box-shadow: 0px 1px 2px rgba(60, 64, 67, 0.3), 0px 1px 3px 1px rgba(60, 64, 67, 0.15);\n",
              "      fill: #174EA6;\n",
              "    }\n",
              "\n",
              "    .colab-df-buttons div {\n",
              "      margin-bottom: 4px;\n",
              "    }\n",
              "\n",
              "    [theme=dark] .colab-df-convert {\n",
              "      background-color: #3B4455;\n",
              "      fill: #D2E3FC;\n",
              "    }\n",
              "\n",
              "    [theme=dark] .colab-df-convert:hover {\n",
              "      background-color: #434B5C;\n",
              "      box-shadow: 0px 1px 3px 1px rgba(0, 0, 0, 0.15);\n",
              "      filter: drop-shadow(0px 1px 2px rgba(0, 0, 0, 0.3));\n",
              "      fill: #FFFFFF;\n",
              "    }\n",
              "  </style>\n",
              "\n",
              "    <script>\n",
              "      const buttonEl =\n",
              "        document.querySelector('#df-24181b30-0456-4b58-bcb0-dee1bdf12df3 button.colab-df-convert');\n",
              "      buttonEl.style.display =\n",
              "        google.colab.kernel.accessAllowed ? 'block' : 'none';\n",
              "\n",
              "      async function convertToInteractive(key) {\n",
              "        const element = document.querySelector('#df-24181b30-0456-4b58-bcb0-dee1bdf12df3');\n",
              "        const dataTable =\n",
              "          await google.colab.kernel.invokeFunction('convertToInteractive',\n",
              "                                                    [key], {});\n",
              "        if (!dataTable) return;\n",
              "\n",
              "        const docLinkHtml = 'Like what you see? Visit the ' +\n",
              "          '<a target=\"_blank\" href=https://colab.research.google.com/notebooks/data_table.ipynb>data table notebook</a>'\n",
              "          + ' to learn more about interactive tables.';\n",
              "        element.innerHTML = '';\n",
              "        dataTable['output_type'] = 'display_data';\n",
              "        await google.colab.output.renderOutput(dataTable, element);\n",
              "        const docLink = document.createElement('div');\n",
              "        docLink.innerHTML = docLinkHtml;\n",
              "        element.appendChild(docLink);\n",
              "      }\n",
              "    </script>\n",
              "  </div>\n",
              "\n",
              "\n",
              "<div id=\"df-d030b888-054a-46c0-96f0-7cd846c282f4\">\n",
              "  <button class=\"colab-df-quickchart\" onclick=\"quickchart('df-d030b888-054a-46c0-96f0-7cd846c282f4')\"\n",
              "            title=\"Suggest charts.\"\n",
              "            style=\"display:none;\">\n",
              "\n",
              "<svg xmlns=\"http://www.w3.org/2000/svg\" height=\"24px\"viewBox=\"0 0 24 24\"\n",
              "     width=\"24px\">\n",
              "    <g>\n",
              "        <path d=\"M19 3H5c-1.1 0-2 .9-2 2v14c0 1.1.9 2 2 2h14c1.1 0 2-.9 2-2V5c0-1.1-.9-2-2-2zM9 17H7v-7h2v7zm4 0h-2V7h2v10zm4 0h-2v-4h2v4z\"/>\n",
              "    </g>\n",
              "</svg>\n",
              "  </button>\n",
              "\n",
              "<style>\n",
              "  .colab-df-quickchart {\n",
              "    background-color: #E8F0FE;\n",
              "    border: none;\n",
              "    border-radius: 50%;\n",
              "    cursor: pointer;\n",
              "    display: none;\n",
              "    fill: #1967D2;\n",
              "    height: 32px;\n",
              "    padding: 0 0 0 0;\n",
              "    width: 32px;\n",
              "  }\n",
              "\n",
              "  .colab-df-quickchart:hover {\n",
              "    background-color: #E2EBFA;\n",
              "    box-shadow: 0px 1px 2px rgba(60, 64, 67, 0.3), 0px 1px 3px 1px rgba(60, 64, 67, 0.15);\n",
              "    fill: #174EA6;\n",
              "  }\n",
              "\n",
              "  [theme=dark] .colab-df-quickchart {\n",
              "    background-color: #3B4455;\n",
              "    fill: #D2E3FC;\n",
              "  }\n",
              "\n",
              "  [theme=dark] .colab-df-quickchart:hover {\n",
              "    background-color: #434B5C;\n",
              "    box-shadow: 0px 1px 3px 1px rgba(0, 0, 0, 0.15);\n",
              "    filter: drop-shadow(0px 1px 2px rgba(0, 0, 0, 0.3));\n",
              "    fill: #FFFFFF;\n",
              "  }\n",
              "</style>\n",
              "\n",
              "  <script>\n",
              "    async function quickchart(key) {\n",
              "      const charts = await google.colab.kernel.invokeFunction(\n",
              "          'suggestCharts', [key], {});\n",
              "    }\n",
              "    (() => {\n",
              "      let quickchartButtonEl =\n",
              "        document.querySelector('#df-d030b888-054a-46c0-96f0-7cd846c282f4 button');\n",
              "      quickchartButtonEl.style.display =\n",
              "        google.colab.kernel.accessAllowed ? 'block' : 'none';\n",
              "    })();\n",
              "  </script>\n",
              "</div>\n",
              "    </div>\n",
              "  </div>\n"
            ]
          },
          "metadata": {},
          "execution_count": 31
        }
      ]
    },
    {
      "cell_type": "markdown",
      "source": [
        "# Feature Engineering"
      ],
      "metadata": {
        "id": "qSebce8gXZXN"
      }
    },
    {
      "cell_type": "markdown",
      "source": [
        "For regression:\n",
        "\n",
        "sum of quantity sold for each day"
      ],
      "metadata": {
        "id": "KiG1Z-MQXa2T"
      }
    },
    {
      "cell_type": "code",
      "source": [
        "reg_df = full.groupby('Date')['Qty'].sum().reset_index()"
      ],
      "metadata": {
        "id": "Hz-roLz8XcJD"
      },
      "execution_count": null,
      "outputs": []
    },
    {
      "cell_type": "markdown",
      "source": [
        "For clustering"
      ],
      "metadata": {
        "id": "3JNL6_ftXcqT"
      }
    },
    {
      "cell_type": "code",
      "source": [
        "cluster_df = full.groupby('CustomerID').agg({\n",
        "              'TransactionID': 'count',\n",
        "              'Qty': 'sum',\n",
        "              'TotalAmount': 'sum'\n",
        "              }).reset_index()\n",
        "\n",
        "cluster_df.set_index('CustomerID', inplace=True)"
      ],
      "metadata": {
        "id": "ONNXWw7WXdr_"
      },
      "execution_count": null,
      "outputs": []
    },
    {
      "cell_type": "markdown",
      "source": [
        "# Regression"
      ],
      "metadata": {
        "id": "6rprmDxKRRNQ"
      }
    },
    {
      "cell_type": "markdown",
      "source": [
        "## Train-Test Split"
      ],
      "metadata": {
        "id": "0uhnm7mpRb-O"
      }
    },
    {
      "cell_type": "code",
      "source": [
        "train, test = train_test_split(reg_df, test_size=0.33, shuffle=False)\n",
        "\n",
        "history = train.copy()\n",
        "train = train.set_index('Date')\n",
        "test = test.set_index('Date')"
      ],
      "metadata": {
        "id": "M1Lj-BDddp1X"
      },
      "execution_count": null,
      "outputs": []
    },
    {
      "cell_type": "markdown",
      "source": [
        "## Model Fitting (ARIMA)\n"
      ],
      "metadata": {
        "id": "5EuP6_hGSFbn"
      }
    },
    {
      "cell_type": "code",
      "source": [
        "train_values = train['Qty']\n",
        "model = ARIMA(train_values, order=(40, 2, 1))\n",
        "model = model.fit()"
      ],
      "metadata": {
        "id": "OxF9subhffEy"
      },
      "execution_count": null,
      "outputs": []
    },
    {
      "cell_type": "markdown",
      "source": [
        "## Getting Predictions"
      ],
      "metadata": {
        "id": "Si2XMuiYJY5y"
      }
    },
    {
      "cell_type": "code",
      "source": [
        "preds = model.get_forecast(len(test)).conf_int()\n",
        "preds = model.predict(start=preds.index[0], end=preds.index[-1])\n",
        "preds.index = test.index"
      ],
      "metadata": {
        "id": "XxJrUjujJboV"
      },
      "execution_count": null,
      "outputs": []
    },
    {
      "cell_type": "markdown",
      "source": [
        "## Model Evaluation"
      ],
      "metadata": {
        "id": "6Pfz6uLbSIY2"
      }
    },
    {
      "cell_type": "code",
      "source": [
        "rmse = sqrt(mean_squared_error(test, preds))\n",
        "print('RMSE: %.3f' % rmse)"
      ],
      "metadata": {
        "colab": {
          "base_uri": "https://localhost:8080/"
        },
        "id": "z1KC2TazTcNd",
        "outputId": "d18d271e-ee04-407a-90f7-614741571687"
      },
      "execution_count": null,
      "outputs": [
        {
          "output_type": "stream",
          "name": "stdout",
          "text": [
            "RMSE: 15.670\n"
          ]
        }
      ]
    },
    {
      "cell_type": "code",
      "source": [
        "# visualize performance\n",
        "plt.plot(train.index, train, color='b', linestyle='-', label='Training Data')\n",
        "plt.plot(test.index, test, color='g',linestyle='-', label = 'Testing Data')\n",
        "plt.plot(preds, color='r', linestyle='-', label = 'Predicted Data')\n",
        "plt.xlabel('Data Entry')\n",
        "plt.ylabel('Quantity Sold')\n",
        "plt.legend()\n",
        "plt.title('Quantity Sold Forecast')\n",
        "plt.show()"
      ],
      "metadata": {
        "colab": {
          "base_uri": "https://localhost:8080/",
          "height": 472
        },
        "id": "ThP2wDfTh-Y1",
        "outputId": "2dd411d6-166b-47dd-b284-d0a91783deae"
      },
      "execution_count": null,
      "outputs": [
        {
          "output_type": "display_data",
          "data": {
            "text/plain": [
              "<Figure size 640x480 with 1 Axes>"
            ],
            "image/png": "[encoded data removed]"
          },
          "metadata": {}
        }
      ]
    },
    {
      "cell_type": "code",
      "source": [
        "# get average quantity sold\n",
        "mean_qty = preds.mean().round()\n",
        "print(mean_qty)"
      ],
      "metadata": {
        "colab": {
          "base_uri": "https://localhost:8080/"
        },
        "id": "f8vBOGIlCO8x",
        "outputId": "d039a7d1-17cb-4f9d-df4f-debeab1e40fa"
      },
      "execution_count": null,
      "outputs": [
        {
          "output_type": "stream",
          "name": "stdout",
          "text": [
            "46.0\n"
          ]
        }
      ]
    },
    {
      "cell_type": "markdown",
      "source": [
        "## Getting Forecast per Product"
      ],
      "metadata": {
        "id": "EYNfx7aEdM3D"
      }
    },
    {
      "cell_type": "code",
      "source": [
        "unique_products = full['Product Name'].unique()\n",
        "preds_by_product = pd.DataFrame()\n",
        "\n",
        "# loop to get forecasts for each product\n",
        "for product_name in unique_products:\n",
        "    product_data = full[full['Product Name'] == product_name]\n",
        "\n",
        "    product_data['Date'] = pd.to_datetime(product_data['Date'])\n",
        "    product_data.set_index('Date', inplace=True)\n",
        "    product_data = product_data.resample('D').sum().fillna(0)\n",
        "\n",
        "    # fit model and get forecasts\n",
        "    model = ARIMA(product_data['Qty'], order=(40, 2, 1))\n",
        "    model_fit = model.fit()\n",
        "    forecast_steps = test.shape[0]\n",
        "    forecast = model_fit.get_forecast(steps=forecast_steps)\n",
        "\n",
        "    # add forecasted values to dataframe\n",
        "    forecast_mean = forecast.predicted_mean\n",
        "    preds_by_product[product_name] = forecast_mean\n"
      ],
      "metadata": {
        "id": "MV99hLIJdlsn"
      },
      "execution_count": null,
      "outputs": []
    },
    {
      "cell_type": "code",
      "source": [
        "# get the average units sold for each product\n",
        "product_avg_qty = preds_by_product.mean().round()\n",
        "print(product_avg_qty)"
      ],
      "metadata": {
        "colab": {
          "base_uri": "https://localhost:8080/"
        },
        "id": "5gzdZcJHQqFd",
        "outputId": "d0c4d37b-460b-4d4e-8292-4e297291ef04"
      },
      "execution_count": null,
      "outputs": [
        {
          "output_type": "stream",
          "name": "stdout",
          "text": [
            "Crackers         6.0\n",
            "Yoghurt          4.0\n",
            "Choco Bar        4.0\n",
            "Cheese Stick     6.0\n",
            "Oat              2.0\n",
            "Thai Tea         6.0\n",
            "Coffee Candy     6.0\n",
            "Potato Chip      4.0\n",
            "Ginger Candy     6.0\n",
            "Cashew           2.0\n",
            "dtype: float64\n"
          ]
        }
      ]
    },
    {
      "cell_type": "markdown",
      "source": [
        "## Results and Prescription"
      ],
      "metadata": {
        "id": "87P3dWtYZv4X"
      }
    },
    {
      "cell_type": "markdown",
      "source": [
        "As calculated before, going into 2023, the model forecasts a total average of **46 units/day** with daily quantities sold for each product as follows:\n",
        "- Crackers: 6 units\n",
        "- Yoghurt: 4 units\n",
        "- Choco Bar: 4 units\n",
        "- Cheese Stick: 6 units\n",
        "- Oat: 2 units\n",
        "- Thai Tea: 6 units\n",
        "- Coffee Candy: 6 units\n",
        "- Potato Chip: 4 units\n",
        "- Ginger Candy : 6 units\n",
        "- Cashew: 2 units\n",
        "\n",
        "The above data could be used as a guide to meet demands when stocking inventory. Moving forward, these predictions should be tested against actual sales and be adjusted accordingly to optimize sales and reduce waste.\n"
      ],
      "metadata": {
        "id": "HLeIfjGNCToK"
      }
    },
    {
      "cell_type": "markdown",
      "source": [
        "# Clustering"
      ],
      "metadata": {
        "id": "hnfoxuszSiu2"
      }
    },
    {
      "cell_type": "markdown",
      "source": [
        "## Finding Optimum Number of Clusters"
      ],
      "metadata": {
        "id": "I8L7eSVuSlIT"
      }
    },
    {
      "cell_type": "code",
      "source": [
        "inertia_values = []\n",
        "for k in range(1, 11):\n",
        "    kmeans = KMeans(n_clusters=k)\n",
        "    kmeans.fit(cluster_df)\n",
        "    inertia_values.append(kmeans.inertia_)\n",
        "\n",
        "# plot the inertia values\n",
        "plt.plot(range(1, 11), inertia_values, marker='o')\n",
        "plt.xlabel('Number of Clusters (k)')\n",
        "plt.ylabel('Inertia')\n",
        "plt.title('Elbow Method for Optimal k')\n",
        "plt.show()"
      ],
      "metadata": {
        "id": "6pedHcx9XsCJ",
        "colab": {
          "base_uri": "https://localhost:8080/",
          "height": 839
        },
        "outputId": "4d24bdfe-48de-4dce-9b5b-e2623f589a38"
      },
      "execution_count": null,
      "outputs": [
        {
          "output_type": "stream",
          "name": "stderr",
          "text": [
            "/usr/local/lib/python3.10/dist-packages/sklearn/cluster/_kmeans.py:870: FutureWarning: The default value of `n_init` will change from 10 to 'auto' in 1.4. Set the value of `n_init` explicitly to suppress the warning\n",
            "  warnings.warn(\n",
            "/usr/local/lib/python3.10/dist-packages/sklearn/cluster/_kmeans.py:870: FutureWarning: The default value of `n_init` will change from 10 to 'auto' in 1.4. Set the value of `n_init` explicitly to suppress the warning\n",
            "  warnings.warn(\n",
            "/usr/local/lib/python3.10/dist-packages/sklearn/cluster/_kmeans.py:870: FutureWarning: The default value of `n_init` will change from 10 to 'auto' in 1.4. Set the value of `n_init` explicitly to suppress the warning\n",
            "  warnings.warn(\n",
            "/usr/local/lib/python3.10/dist-packages/sklearn/cluster/_kmeans.py:870: FutureWarning: The default value of `n_init` will change from 10 to 'auto' in 1.4. Set the value of `n_init` explicitly to suppress the warning\n",
            "  warnings.warn(\n",
            "/usr/local/lib/python3.10/dist-packages/sklearn/cluster/_kmeans.py:870: FutureWarning: The default value of `n_init` will change from 10 to 'auto' in 1.4. Set the value of `n_init` explicitly to suppress the warning\n",
            "  warnings.warn(\n",
            "/usr/local/lib/python3.10/dist-packages/sklearn/cluster/_kmeans.py:870: FutureWarning: The default value of `n_init` will change from 10 to 'auto' in 1.4. Set the value of `n_init` explicitly to suppress the warning\n",
            "  warnings.warn(\n",
            "/usr/local/lib/python3.10/dist-packages/sklearn/cluster/_kmeans.py:870: FutureWarning: The default value of `n_init` will change from 10 to 'auto' in 1.4. Set the value of `n_init` explicitly to suppress the warning\n",
            "  warnings.warn(\n",
            "/usr/local/lib/python3.10/dist-packages/sklearn/cluster/_kmeans.py:870: FutureWarning: The default value of `n_init` will change from 10 to 'auto' in 1.4. Set the value of `n_init` explicitly to suppress the warning\n",
            "  warnings.warn(\n",
            "/usr/local/lib/python3.10/dist-packages/sklearn/cluster/_kmeans.py:870: FutureWarning: The default value of `n_init` will change from 10 to 'auto' in 1.4. Set the value of `n_init` explicitly to suppress the warning\n",
            "  warnings.warn(\n",
            "/usr/local/lib/python3.10/dist-packages/sklearn/cluster/_kmeans.py:870: FutureWarning: The default value of `n_init` will change from 10 to 'auto' in 1.4. Set the value of `n_init` explicitly to suppress the warning\n",
            "  warnings.warn(\n"
          ]
        },
        {
          "output_type": "display_data",
          "data": {
            "text/plain": [
              "<Figure size 640x480 with 1 Axes>"
            ],
            "image/png": "[encoded data removed]"
          },
          "metadata": {}
        }
      ]
    },
    {
      "cell_type": "markdown",
      "source": [
        "chosen number of clusters = 4"
      ],
      "metadata": {
        "id": "sdRj7wXgX_vY"
      }
    },
    {
      "cell_type": "markdown",
      "source": [
        "## Cluster Identification"
      ],
      "metadata": {
        "id": "E7GS5lDPYM5q"
      }
    },
    {
      "cell_type": "code",
      "source": [
        "n_clusters = 4\n",
        "kmeans = KMeans(n_clusters=n_clusters)\n",
        "kmeans.fit(cluster_df)\n",
        "\n",
        "cluster_assignments = kmeans.labels_\n",
        "\n",
        "print(\"Cluster Assignments:\", cluster_assignments)"
      ],
      "metadata": {
        "id": "ctV4bXOtYTex",
        "colab": {
          "base_uri": "https://localhost:8080/"
        },
        "outputId": "5baf6da8-2822-4132-acd9-b7903b52a279"
      },
      "execution_count": null,
      "outputs": [
        {
          "output_type": "stream",
          "name": "stdout",
          "text": [
            "Cluster Assignments: [2 0 0 1 1 0 0 2 1 0 3 2 2 0 0 0 1 0 2 2 1 0 0 0 3 3 1 1 0 1 1 1 3 0 3 1 2\n",
            " 1 0 1 3 0 2 2 2 0 2 1 1 3 0 1 1 0 1 3 0 0 3 0 3 0 2 1 3 0 0 3 1 1 1 2 0 3\n",
            " 1 0 0 3 3 1 1 0 0 0 0 1 0 2 2 1 1 1 0 1 0 1 1 1 1 1 0 0 1 3 2 2 2 0 1 3 3\n",
            " 2 3 0 0 0 1 0 0 0 0 1 1 0 3 3 2 1 0 1 0 0 2 0 0 1 0 0 1 1 1 1 3 3 3 3 0 3\n",
            " 0 0 1 0 3 1 0 2 2 0 1 0 1 1 1 1 1 2 2 1 1 3 2 2 1 0 1 3 1 0 3 3 1 1 1 2 3\n",
            " 1 0 1 2 0 1 3 3 3 0 1 1 0 0 3 1 1 0 0 3 0 1 3 1 2 1 1 0 1 1 1 0 0 2 1 1 0\n",
            " 0 1 1 0 3 1 0 3 0 1 2 0 0 1 0 1 0 2 1 3 0 1 2 0 0 1 1 1 1 1 1 1 3 0 1 1 3\n",
            " 2 3 3 2 0 3 1 0 0 1 2 1 0 0 3 1 0 2 0 0 0 0 0 0 0 1 3 1 1 0 3 3 3 1 3 0 1\n",
            " 1 0 2 3 2 1 2 0 1 0 1 1 3 0 0 1 3 1 0 3 1 3 0 3 2 1 3 3 3 2 1 3 2 1 1 3 3\n",
            " 3 1 0 3 1 0 0 0 0 1 3 1 3 0 0 3 1 1 1 1 1 1 2 0 0 3 1 1 0 1 0 2 0 3 1 0 2\n",
            " 3 1 1 0 1 0 1 0 1 1 3 3 3 2 3 1 3 3 3 3 0 2 0 1 1 1 3 1 1 3 0 3 1 0 3 3 3\n",
            " 0 0 3 3 3 0 0 1 2 2 3 3 3 1 2 2 0 3 3 2 1 1 0 1 3 1 2 0 1 3 0 3 0 3 1 0 2\n",
            " 2 0 0]\n"
          ]
        },
        {
          "output_type": "stream",
          "name": "stderr",
          "text": [
            "/usr/local/lib/python3.10/dist-packages/sklearn/cluster/_kmeans.py:870: FutureWarning: The default value of `n_init` will change from 10 to 'auto' in 1.4. Set the value of `n_init` explicitly to suppress the warning\n",
            "  warnings.warn(\n"
          ]
        }
      ]
    },
    {
      "cell_type": "code",
      "source": [
        "# visualize cluster\n",
        "sns.scatterplot(x=cluster_df['Qty'], y=cluster_df['TotalAmount'], s=10, hue=cluster_assignments)\n",
        "plt.xlabel('Quantity Bought')\n",
        "plt.ylabel('Total Amount Spent')\n",
        "plt.title('Customer Segmentation based on Quantity Bought and Total Amount Spent')\n",
        "plt.legend()\n",
        "plt.show()"
      ],
      "metadata": {
        "colab": {
          "base_uri": "https://localhost:8080/",
          "height": 472
        },
        "id": "2IsQyEBEYXZO",
        "outputId": "b69d287f-33b0-43f6-c29b-ab4ec6e0b2d2"
      },
      "execution_count": null,
      "outputs": [
        {
          "output_type": "display_data",
          "data": {
            "text/plain": [
              "<Figure size 640x480 with 1 Axes>"
            ],
            "image/png": "[encoded data removed]"
          },
          "metadata": {}
        }
      ]
    },
    {
      "cell_type": "markdown",
      "source": [
        "## Model Evaluation"
      ],
      "metadata": {
        "id": "EGHByT97dJ7J"
      }
    },
    {
      "cell_type": "code",
      "source": [
        "silhouette_avg = silhouette_score(cluster_df, cluster_assignments)\n",
        "print(f\"Silhouette Score: {silhouette_avg:.2f}\")"
      ],
      "metadata": {
        "id": "rzpDHxY6aZyX",
        "colab": {
          "base_uri": "https://localhost:8080/"
        },
        "outputId": "c7af2d8a-c75e-4467-aa40-2a238c98ea0e"
      },
      "execution_count": null,
      "outputs": [
        {
          "output_type": "stream",
          "name": "stdout",
          "text": [
            "Silhouette Score: 0.52\n"
          ]
        }
      ]
    },
    {
      "cell_type": "markdown",
      "source": [
        "## Results and Prescription"
      ],
      "metadata": {
        "id": "LgtGsbyocXO4"
      }
    },
    {
      "cell_type": "markdown",
      "source": [
        "\n",
        "\n",
        "Analyzing the four clusters above presents us with some insight into the customers' spending patterns. Tailored to each cluster's characteristics, here are some possible marketing strategies that can be implemented.\n",
        "\n",
        "\n",
        "\n",
        "**Cluster 0: Upper-medium Spenders**\n",
        "\n",
        "Customers in Cluster 1 spend a lot but have not yet reached the high spender category. We want to engage Cluster 1 more, as they have the potential to transition into high spenders. Here are a few ways how:\n",
        "- Upsell and suggest higher-value items related to their usual purchases\n",
        "- Offer premium services from time to time\n",
        "- Introduce a point system that brings values if they shop in a higher bracket\n",
        "\n",
        "**Cluster 1: Lower-medium Spenders**\n",
        "\n",
        "Customers in Cluster 3 spend more than Cluster 0, but still need more encouragement to increase their spending. To increase engagement, try:\n",
        "- Offering bundles to introduce new products\n",
        "- Providing limited-time offers to increase urgency\n",
        "- Showing educational content on products they might take an interest in\n",
        "\n",
        "**Cluster 2:  High Spenders**\n",
        "\n",
        "Customers in Cluster 2 spend a lot and buy a lot. We want to keep these premium customers as engaged, if not more. A few possible strategies to retain this cluster are:\n",
        "- Providing exclusive loyalty discounts and bundles\n",
        "- Providing early access to new products or services\n",
        "- Prioritized customer service\n",
        "\n",
        "**Cluster 3: Low Spenders**\n",
        "\n",
        "Customers in Cluster 0 are typically value-conscious and only shop occasionally. We want to incentivize Cluster 0 to shop more frequently. This can be done by:\n",
        "- Providing welcome-back offers\n",
        "- Implementing a loyalty card that offers incremental discounts the more they purchase\n",
        "- Regularly curating a selection of items to pique their interest\n"
      ],
      "metadata": {
        "id": "yqB_OZ6vZ8ky"
      }
    }
  ]
}